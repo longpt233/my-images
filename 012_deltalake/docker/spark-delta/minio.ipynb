{
 "cells": [
  {
   "cell_type": "code",
   "execution_count": 1,
   "id": "d243c0f7-454c-4a13-8feb-a295907c0018",
   "metadata": {},
   "outputs": [],
   "source": [
    "# !pip install --proxy http://10.60.117.103:8085 minio"
   ]
  },
  {
   "cell_type": "code",
   "execution_count": 2,
   "id": "3a646af8-0e15-46ad-869d-06e210cbbe97",
   "metadata": {},
   "outputs": [],
   "source": [
    "from minio import Minio\n",
    "\n",
    "\n",
    "import configparser\n",
    "\n",
    "# Tạo một parser\n",
    "config = configparser.ConfigParser()\n",
    "\n",
    "# Đọc file config\n",
    "config.read('secret.ini')\n",
    "\n",
    "# Truy cập giá trị\n",
    "access_key = config['minio']['access_key']\n",
    "secret_key = config['minio']['secret_key']\n",
    "\n",
    "\n",
    "client = Minio(\n",
    "    \"10.208.164.167:9000\",\n",
    "    access_key=access_key,\n",
    "    secret_key=secret_key,\n",
    "    secure=False\n",
    ")\n",
    "\n",
    "minio_bucket = \"delta-demo-2\"\n",
    "\n",
    "found = client.bucket_exists(minio_bucket)\n",
    "if not found:\n",
    "    client.make_bucket(minio_bucket)"
   ]
  },
  {
   "cell_type": "code",
   "execution_count": 9,
   "id": "46197b4c-71e2-4d5a-914d-dbd0648e277d",
   "metadata": {},
   "outputs": [
    {
     "data": {
      "text/plain": [
       "<minio.helpers.ObjectWriteResult at 0x7e2cfe114a90>"
      ]
     },
     "execution_count": 9,
     "metadata": {},
     "output_type": "execute_result"
    }
   ],
   "source": [
    "destination_file = 'data.csv'\n",
    "source_file = '/home/data.csv' ## The file should exist in the project folder\n",
    "\n",
    "client.fput_object(minio_bucket, destination_file, source_file,)"
   ]
  }
 ],
 "metadata": {
  "kernelspec": {
   "display_name": "Python 3 (ipykernel)",
   "language": "python",
   "name": "python3"
  },
  "language_info": {
   "codemirror_mode": {
    "name": "ipython",
    "version": 3
   },
   "file_extension": ".py",
   "mimetype": "text/x-python",
   "name": "python",
   "nbconvert_exporter": "python",
   "pygments_lexer": "ipython3",
   "version": "3.8.10"
  }
 },
 "nbformat": 4,
 "nbformat_minor": 5
}
