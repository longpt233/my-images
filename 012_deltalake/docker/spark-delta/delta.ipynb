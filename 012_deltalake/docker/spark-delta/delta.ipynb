{
 "cells": [
  {
   "cell_type": "code",
   "execution_count": 1,
   "id": "c18e0348-fed0-4d93-9e48-5e85947cadeb",
   "metadata": {
    "scrolled": true
   },
   "outputs": [
    {
     "name": "stdout",
     "output_type": "stream",
     "text": [
      ":: loading settings :: url = jar:file:/usr/local/lib/python3.8/dist-packages/pyspark/jars/ivy-2.5.0.jar!/org/apache/ivy/core/settings/ivysettings.xml\n"
     ]
    },
    {
     "name": "stderr",
     "output_type": "stream",
     "text": [
      "Ivy Default Cache set to: /root/.ivy2/cache\n",
      "The jars for the packages stored in: /root/.ivy2/jars\n",
      "org.apache.hadoop#hadoop-aws added as a dependency\n",
      "io.delta#delta-core_2.12 added as a dependency\n",
      ":: resolving dependencies :: org.apache.spark#spark-submit-parent-b40e2879-a44d-407e-bcb7-776a692bd80c;1.0\n",
      "\tconfs: [default]\n",
      "\tfound org.apache.hadoop#hadoop-aws;3.3.1 in central\n",
      "\tfound com.amazonaws#aws-java-sdk-bundle;1.11.901 in central\n",
      "\tfound org.wildfly.openssl#wildfly-openssl;1.0.7.Final in central\n",
      "\tfound io.delta#delta-core_2.12;2.1.0 in central\n",
      "\tfound io.delta#delta-storage;2.1.0 in central\n",
      "\tfound org.antlr#antlr4-runtime;4.8 in central\n",
      "\tfound org.codehaus.jackson#jackson-core-asl;1.9.13 in central\n",
      ":: resolution report :: resolve 115ms :: artifacts dl 4ms\n",
      "\t:: modules in use:\n",
      "\tcom.amazonaws#aws-java-sdk-bundle;1.11.901 from central in [default]\n",
      "\tio.delta#delta-core_2.12;2.1.0 from central in [default]\n",
      "\tio.delta#delta-storage;2.1.0 from central in [default]\n",
      "\torg.antlr#antlr4-runtime;4.8 from central in [default]\n",
      "\torg.apache.hadoop#hadoop-aws;3.3.1 from central in [default]\n",
      "\torg.codehaus.jackson#jackson-core-asl;1.9.13 from central in [default]\n",
      "\torg.wildfly.openssl#wildfly-openssl;1.0.7.Final from central in [default]\n",
      "\t---------------------------------------------------------------------\n",
      "\t|                  |            modules            ||   artifacts   |\n",
      "\t|       conf       | number| search|dwnlded|evicted|| number|dwnlded|\n",
      "\t---------------------------------------------------------------------\n",
      "\t|      default     |   7   |   0   |   0   |   0   ||   7   |   0   |\n",
      "\t---------------------------------------------------------------------\n",
      ":: retrieving :: org.apache.spark#spark-submit-parent-b40e2879-a44d-407e-bcb7-776a692bd80c\n",
      "\tconfs: [default]\n",
      "\t0 artifacts copied, 7 already retrieved (0kB/3ms)\n"
     ]
    },
    {
     "name": "stdout",
     "output_type": "stream",
     "text": [
      "25/01/03 07:03:15 WARN NativeCodeLoader: Unable to load native-hadoop library for your platform... using builtin-java classes where applicable\n"
     ]
    },
    {
     "name": "stderr",
     "output_type": "stream",
     "text": [
      "Setting default log level to \"WARN\".\n",
      "To adjust logging level use sc.setLogLevel(newLevel). For SparkR, use setLogLevel(newLevel).\n"
     ]
    },
    {
     "name": "stdout",
     "output_type": "stream",
     "text": [
      "25/01/03 07:03:16 WARN Utils: Service 'SparkUI' could not bind on port 4040. Attempting port 4041.\n"
     ]
    }
   ],
   "source": [
    "from pyspark.sql import SparkSession\n",
    "\n",
    "\n",
    "import configparser\n",
    "\n",
    "# Tạo một parser\n",
    "config = configparser.ConfigParser()\n",
    "\n",
    "# Đọc file config\n",
    "config.read('secret.ini')\n",
    "access_key = config['minio']['access_key']\n",
    "secret_key = config['minio']['secret_key']\n",
    "\n",
    "spark = SparkSession.builder\\\n",
    "             .appName(\"test\")\\\n",
    "             .master(\"local[2]\") \\\n",
    "             .config(\"spark.driver.extraJavaOptions\",'-Dhttp.proxyHost=10.60.117.103 -Dhttp.proxyPort=8085 -Dhttps.proxyHost=10.60.117.103 -Dhttps.proxyPort=8085 -Dhttp.nonProxyHosts=\"localhost|127.0.0.1|10.208.164.167\"') \\\n",
    "             .config(\"spark.jars.packages\", \"org.apache.hadoop:hadoop-aws:3.3.1,io.delta:delta-core_2.12:2.1.0\") \\\n",
    "             .config(\"spark.hadoop.fs.s3a.access.key\", access_key)\\\n",
    "             .config(\"spark.hadoop.fs.s3a.secret.key\", secret_key)\\\n",
    "             .config(\"spark.hadoop.fs.s3a.endpoint\", \"http://10.208.164.167:9000\") \\\n",
    "             .config(\"spark.hadoop.fs.s3a.path.style.access\", \"true\")\\\n",
    "             .config(\"spark.sql.extensions\", \"io.delta.sql.DeltaSparkSessionExtension\") \\\n",
    "             .config(\"spark.sql.catalog.spark_catalog\", \"org.apache.spark.sql.delta.catalog.DeltaCatalog\")\\\n",
    "             .getOrCreate()\n",
    "\n",
    "#              .config(\"fs.s3a.connection.ssl.enabled\", \"false\") \\\n",
    "#              .config(\"spark.hadoop.fs.s3a.impl\", \"org.apache.hadoop.fs.s3a.S3AFileSystem\") \\\n",
    "\n",
    "spark.sparkContext.setLogLevel(\"ERROR\")\n",
    "\n",
    "# chạy jar chắc vẫn bị thiếu depandency  -> chueyern sang chạy pack để tải cho đủ, nhưng mà  pahri ignore proxy, nếu không nó bị treo luôn\n",
    "#            .config(\"spark.jars\", \"/home/hadoop-aws-3.3.1.jar,/home/delta-core_2.12-2.1.0.jar\") \\\n",
    "\n",
    "# cái này chạy được nè\n",
    "             # .config(\"spark.driver.extraJavaOptions\",\"-Dhttp.proxyHost=10.60.117.103 -Dhttp.proxyPort=8085 -Dhttps.proxyHost=10.60.117.103 -Dhttps.proxyPort=8085\") \\\n",
    "             # .config(\"spark.jars.packages\", \"org.apache.hadoop:hadoop-aws:3.3.1,io.delta:delta-core_2.12:2.1.0\") \\\n",
    "\n",
    "# lỗi Py4JJavaError: An error occurred while calling o53.load.\n",
    "# : java.lang.IncompatibleClassChangeError: class org.apache.spark.sql.catalyst.plans.logical.DeltaDelete has interface org.apache.spark.sql.catalyst.plans.logical.UnaryNode as super class\n",
    "             # .config(\"spark.jars.packages\", \"io.delta:delta-core_2.12:1.0.0\") \\\n",
    "             # .config(\"spark.jars\", \"/home/hadoop-aws-3.2.0.jar\") \\\n",
    "\n",
    "\n",
    "\n",
    "#              .config(\"spark.jars\", \"/home/delta-core_2.12-1.0.0.jar\") \\\n",
    "#/home/aws-java-sdk-bundle-1.11.375.jar,/home/hadoop-aws-3.2.0.jar,\n",
    "             # .config(\"spark.jars.packages\", \"io.delta:delta-core_2.12:1.0.0\")\n",
    "             #.config(\"spark.jars.packages\", \"io.delta:delta-core_2.12:1.0.0, org.apache.hadoop:hadoop-aws:3.2.0, com.amazonaws:aws-java-sdk-bundle:1.11.375\")"
   ]
  },
  {
   "cell_type": "code",
   "execution_count": 2,
   "id": "73b7d723-0328-419f-932b-51e3e8e4156b",
   "metadata": {
    "scrolled": true
   },
   "outputs": [],
   "source": [
    "data_csv = '/home/data.csv'\n",
    "data_df = spark.read.format('csv').option('header', 'true').option('inferSchema', 'true').load(data_csv)"
   ]
  },
  {
   "cell_type": "code",
   "execution_count": 3,
   "id": "8ddd38a6-68be-45f0-a4cb-b58d91699923",
   "metadata": {},
   "outputs": [
    {
     "data": {
      "text/plain": [
       "DataFrame[year: int, age: int, school: int, group: int, topic: int, count: string]"
      ]
     },
     "execution_count": 3,
     "metadata": {},
     "output_type": "execute_result"
    }
   ],
   "source": [
    "data_df"
   ]
  },
  {
   "cell_type": "code",
   "execution_count": 4,
   "id": "c6d4a2f3-4664-49d5-be99-8af5c932e49b",
   "metadata": {
    "scrolled": true
   },
   "outputs": [
    {
     "name": "stdout",
     "output_type": "stream",
     "text": [
      "+----+---+------+-----+------+-----+\n",
      "|year|age|school|group| topic|count|\n",
      "+----+---+------+-----+------+-----+\n",
      "|2018| 10|     2|    9|133500|    0|\n",
      "|2018| 10|     3|    1|133500|  ..C|\n",
      "|2018| 10|     3|    2|133500|  ..C|\n",
      "|2018| 10|     3|    9|133500|    0|\n",
      "|2018| 10|     4|    1|133500|  ..C|\n",
      "|2018| 10|     4|    2|133500|  ..C|\n",
      "|2018| 10|     4|    9|133500|    3|\n",
      "|2018| 10|     5|    1|133500|  ..C|\n",
      "|2018| 10|     5|    2|133500|  ..C|\n",
      "|2018| 10|     5|    9|133500|    0|\n",
      "+----+---+------+-----+------+-----+\n",
      "only showing top 10 rows\n",
      "\n"
     ]
    }
   ],
   "source": [
    "data_df.show(10)"
   ]
  },
  {
   "cell_type": "code",
   "execution_count": 7,
   "id": "e55f7297-dd5e-4766-bf2e-7b306904c04a",
   "metadata": {},
   "outputs": [],
   "source": [
    "S3_BUCKET= \"delta-demo\"\n",
    "delta_table_name = \"table\""
   ]
  },
  {
   "cell_type": "code",
   "execution_count": 8,
   "id": "7f7cbc5a-173c-4b17-95e8-b65a34e3988d",
   "metadata": {},
   "outputs": [
    {
     "name": "stderr",
     "output_type": "stream",
     "text": [
      "                                                                                "
     ]
    }
   ],
   "source": [
    "data_df.write.format(\"delta\").save(f\"s3a://{S3_BUCKET}/{delta_table_name}\", mode=\"overwrite\")"
   ]
  },
  {
   "cell_type": "code",
   "execution_count": 9,
   "id": "13bd1f1c-12c1-49d1-b48c-0884cdc9dab3",
   "metadata": {},
   "outputs": [],
   "source": [
    "from delta import *\n",
    "minio_bucket = \"delta-demo-1\"\n",
    "data_df \\\n",
    "    .write \\\n",
    "    .format(\"delta\") \\\n",
    "    .partitionBy(\"school\") \\\n",
    "    .mode(\"overwrite\") \\\n",
    "    .save(f\"s3a://{minio_bucket}/data-delta\")"
   ]
  },
  {
   "cell_type": "code",
   "execution_count": null,
   "id": "8b2fb5d6-56c7-4d17-b88f-eeacd9e7605b",
   "metadata": {},
   "outputs": [],
   "source": []
  },
  {
   "cell_type": "code",
   "execution_count": null,
   "id": "f2b7cadf-ce0b-4444-97d3-2c8f7abd2286",
   "metadata": {},
   "outputs": [],
   "source": []
  }
 ],
 "metadata": {
  "kernelspec": {
   "display_name": "Python 3 (ipykernel)",
   "language": "python",
   "name": "python3"
  },
  "language_info": {
   "codemirror_mode": {
    "name": "ipython",
    "version": 3
   },
   "file_extension": ".py",
   "mimetype": "text/x-python",
   "name": "python",
   "nbconvert_exporter": "python",
   "pygments_lexer": "ipython3",
   "version": "3.8.10"
  }
 },
 "nbformat": 4,
 "nbformat_minor": 5
}
