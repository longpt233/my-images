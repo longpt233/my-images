{
 "cells": [
  {
   "cell_type": "code",
   "execution_count": 2,
   "id": "bdc63fa7-4ad7-4f6f-a9fe-fc55d45b29d2",
   "metadata": {
    "scrolled": true
   },
   "outputs": [
    {
     "name": "stdout",
     "output_type": "stream",
     "text": [
      "24/12/16 16:17:33 WARN NativeCodeLoader: Unable to load native-hadoop library for your platform... using builtin-java classes where applicable\n"
     ]
    },
    {
     "name": "stderr",
     "output_type": "stream",
     "text": [
      "Setting default log level to \"WARN\".\n",
      "To adjust logging level use sc.setLogLevel(newLevel). For SparkR, use setLogLevel(newLevel).\n"
     ]
    }
   ],
   "source": [
    "from pyspark.sql import SparkSession\n",
    "\n",
    "# Initialize Spark session with HBase configuration\n",
    "spark = SparkSession.builder \\\n",
    "    .appName(\"WriteToMySQL222\") \\\n",
    "    .config(\"spark.jars\", \"/tmp/acryl-spark-lineage-5206f9d-SNAPSHOT.jar,/tmp/mysql-connector-java-8.0.29.jar\") \\\n",
    "    .config(\"spark.extraListeners\", \"datahub.spark.DatahubSparkListener\")\\\n",
    "    .config(\"spark.datahub.rest.server\", \"http://10.208.164.167:8080\")\\\n",
    "    .config(\"spark.datahub.metadata.dataset.materialize\", \"true\")\\\n",
    "    .config(\"spark.datahub.metadata.dataset.experimental_include_schema_metadata\", \"true\")\\\n",
    "    .getOrCreate()\n",
    "# chạy phát sẽ có linearg trên datahub\n",
    "# spark.sparkContext.setLogLevel(\"DEBUG\")"
   ]
  },
  {
   "cell_type": "code",
   "execution_count": 3,
   "id": "8b32905b-aa9f-4a6f-af34-222608824d1d",
   "metadata": {
    "scrolled": true
   },
   "outputs": [
    {
     "name": "stderr",
     "output_type": "stream",
     "text": [
      "SLF4J: Failed to load class \"org.slf4j.impl.StaticLoggerBinder\".\n",
      "SLF4J: Defaulting to no-operation (NOP) logger implementation\n",
      "SLF4J: See http://www.slf4j.org/codes.html#StaticLoggerBinder for further details.\n"
     ]
    },
    {
     "name": "stdout",
     "output_type": "stream",
     "text": [
      "24/12/16 16:17:37 WARN CompositeMeterRegistry: A MeterFilter is being configured after a Meter has been registered to this registry. All MeterFilters should be configured before any Meters are registered. If that is not possible or you have a use case where it should be allowed, let the Micrometer maintainers know at https://github.com/micrometer-metrics/micrometer/issues/4920. Enable DEBUG level logging on this logger to see a stack trace of the call configuring this MeterFilter.\n"
     ]
    },
    {
     "name": "stderr",
     "output_type": "stream",
     "text": [
      "                                                                                "
     ]
    }
   ],
   "source": [
    "data = [(1, \"John Doe\", 25), (2, \"Jane Smith\", 30), (3, \"Alice Johnson\", 22)]\n",
    "columns = [\"ID\", \"Name\", \"Age\"]\n",
    "df = spark.createDataFrame(data, columns)\n",
    "\n",
    "# CREATE DATABASE my_database;\n",
    "# CREATE USER 'my_user'@'localhost' IDENTIFIED BY 'my_password';\n",
    "# CREATE USER 'my_user'@'%' IDENTIFIED BY 'my_password';\n",
    "# GRANT ALL PRIVILEGES ON my_database.* TO 'my_user'@'%';\n",
    "# FLUSH PRIVILEGES;\n",
    "# USE my_database;\n",
    "# select * from person;\n",
    "# truncate table person;\n",
    "# drop  table person;\n",
    "# CREATE TABLE person (\n",
    "#     ID INT PRIMARY KEY,\n",
    "#     Name VARCHAR(100),\n",
    "#     Age INT\n",
    "# );\n",
    "\n",
    "df.write \\\n",
    "    .format(\"jdbc\") \\\n",
    "    .option(\"url\", \"jdbc:mysql://10.208.164.167:3306/my_database\") \\\n",
    "    .option(\"driver\", \"com.mysql.cj.jdbc.Driver\") \\\n",
    "    .option(\"dbtable\", \"person\") \\\n",
    "    .option(\"user\", \"my_user\") \\\n",
    "    .option(\"password\", \"my_password\") \\\n",
    "    .mode(\"overwrite\").save()   # nó tự tạo bảng cho, chú ý option overwrite hay không"
   ]
  }
 ],
 "metadata": {
  "kernelspec": {
   "display_name": "Python 3 (ipykernel)",
   "language": "python",
   "name": "python3"
  },
  "language_info": {
   "codemirror_mode": {
    "name": "ipython",
    "version": 3
   },
   "file_extension": ".py",
   "mimetype": "text/x-python",
   "name": "python",
   "nbconvert_exporter": "python",
   "pygments_lexer": "ipython3",
   "version": "3.8.10"
  }
 },
 "nbformat": 4,
 "nbformat_minor": 5
}
